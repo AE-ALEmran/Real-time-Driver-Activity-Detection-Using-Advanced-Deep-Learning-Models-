{
  "cells": [
    {
      "cell_type": "code",
      "execution_count": null,
      "id": "914391e3-2acc-42f7-810f-1153c6748dc5",
      "metadata": {
        "id": "914391e3-2acc-42f7-810f-1153c6748dc5"
      },
      "outputs": [],
      "source": [
        "# Import necessary libraries\n",
        "import tensorflow as tf\n",
        "from tensorflow.keras.preprocessing.image import ImageDataGenerator\n",
        "from tensorflow.keras import layers, models, callbacks, regularizers\n",
        "from tensorflow.keras.applications import MobileNetV2\n",
        "from tensorflow.keras.optimizers import Adam\n",
        "import matplotlib.pyplot as plt\n",
        "import numpy as np\n",
        "from sklearn.metrics import confusion_matrix, ConfusionMatrixDisplay, classification_report\n",
        "import pandas as pd\n",
        "import os\n",
        "import shutil\n",
        "import time"
      ]
    },
    {
      "cell_type": "code",
      "execution_count": null,
      "id": "c8cab7d4-b226-4a4b-a1e1-b0927e185536",
      "metadata": {
        "id": "c8cab7d4-b226-4a4b-a1e1-b0927e185536"
      },
      "outputs": [],
      "source": [
        "# Set paths to your dataset directories\n",
        "dataset_dir = r'C:\\Users\\AE AL Emran\\Documents\\Thesis_paper_1_Driver_Fatic_topic_8_type_clasification\\dataset2\\dataset\\training_set'"
      ]
    },
    {
      "cell_type": "code",
      "execution_count": null,
      "id": "bb8828fd-7339-4af0-aa53-ec826e7d049d",
      "metadata": {
        "id": "bb8828fd-7339-4af0-aa53-ec826e7d049d"
      },
      "outputs": [],
      "source": [
        "# Define paths for train and test directories\n",
        "train_dir = os.path.join(dataset_dir, 'train')\n",
        "test_dir = os.path.join(dataset_dir, 'test')"
      ]
    },
    {
      "cell_type": "code",
      "execution_count": null,
      "id": "0783fcf3-89cd-4319-8f74-dd2fcf07f12d",
      "metadata": {
        "id": "0783fcf3-89cd-4319-8f74-dd2fcf07f12d"
      },
      "outputs": [],
      "source": [
        "# Helper function to handle read-only files during deletion\n",
        "def handle_remove_readonly(func, path, exc):\n",
        "    import stat\n",
        "    os.chmod(path, stat.S_IWRITE)\n",
        "    func(path)"
      ]
    },
    {
      "cell_type": "code",
      "execution_count": null,
      "id": "891a4497-b1a0-415f-af7c-cd67596f2b3b",
      "metadata": {
        "id": "891a4497-b1a0-415f-af7c-cd67596f2b3b"
      },
      "outputs": [],
      "source": [
        "# Helper function to retry directory deletion if a PermissionError occurs\n",
        "def remove_dir_with_retry(path):\n",
        "    retries = 3\n",
        "    for i in range(retries):\n",
        "        try:\n",
        "            shutil.rmtree(path, onerror=handle_remove_readonly)\n",
        "            print(f\"Successfully deleted: {path}\")\n",
        "            break\n",
        "        except PermissionError as e:\n",
        "            print(f\"PermissionError: {e}. Retrying in 2 seconds... ({i+1}/{retries})\")\n",
        "            time.sleep(2)\n",
        "    else:\n",
        "        print(f\"Could not delete {path} after {retries} retries.\")"
      ]
    },
    {
      "cell_type": "code",
      "execution_count": null,
      "id": "3dd712bc-1f95-48df-b4c0-902ff5ad96a0",
      "metadata": {
        "id": "3dd712bc-1f95-48df-b4c0-902ff5ad96a0"
      },
      "outputs": [],
      "source": [
        "# Clear old directories if they exist\n",
        "for folder in [train_dir, test_dir]:\n",
        "    if os.path.exists(folder):\n",
        "        remove_dir_with_retry(folder)"
      ]
    },
    {
      "cell_type": "code",
      "execution_count": null,
      "id": "a64e2c65-37c0-42ed-86d7-cac35b8a48a2",
      "metadata": {
        "id": "a64e2c65-37c0-42ed-86d7-cac35b8a48a2"
      },
      "outputs": [],
      "source": [
        "# Helper function to split data into train and test\n",
        "def split_data(data_dir, train_dir, test_dir, train_ratio=0.8):\n",
        "    classes = [cls for cls in os.listdir(data_dir) if os.path.isdir(os.path.join(data_dir, cls))]\n",
        "\n",
        "    for cls in classes:\n",
        "        cls_dir = os.path.join(data_dir, cls)\n",
        "        images = os.listdir(cls_dir)\n",
        "\n",
        "        # Shuffle and split images\n",
        "        np.random.shuffle(images)\n",
        "        train_count = int(len(images) * train_ratio)\n",
        "\n",
        "        train_images = images[:train_count]\n",
        "        test_images = images[train_count:]\n",
        "\n",
        "        # Copy images to new directories\n",
        "        for subset, subset_images in zip([train_dir, test_dir], [train_images, test_images]):\n",
        "            subset_cls_dir = os.path.join(subset, cls)\n",
        "            os.makedirs(subset_cls_dir, exist_ok=True)\n",
        "            for img in subset_images:\n",
        "                shutil.copy(os.path.join(cls_dir, img), os.path.join(subset_cls_dir, img))"
      ]
    },
    {
      "cell_type": "code",
      "execution_count": null,
      "id": "c4e5e832-b672-4f49-96d9-261a7ccdab70",
      "metadata": {
        "id": "c4e5e832-b672-4f49-96d9-261a7ccdab70"
      },
      "outputs": [],
      "source": [
        "# Perform data splitting\n",
        "split_data(dataset_dir, train_dir, test_dir)"
      ]
    },
    {
      "cell_type": "code",
      "execution_count": null,
      "id": "5e80bf95-4f43-4b22-84ec-280a51162bc6",
      "metadata": {
        "id": "5e80bf95-4f43-4b22-84ec-280a51162bc6"
      },
      "outputs": [],
      "source": [
        "# Create instances of ImageDataGenerator for training and testing\n",
        "train_datagen = ImageDataGenerator(\n",
        "    rescale=1./255,\n",
        "    zoom_range=0.2,  # Keep essential augmentations\n",
        "    horizontal_flip=True,\n",
        "    fill_mode='nearest'\n",
        ")\n",
        "\n",
        "test_datagen = ImageDataGenerator(rescale=1./255)"
      ]
    },
    {
      "cell_type": "code",
      "execution_count": null,
      "id": "d29673f0-6a98-4a2c-8d4a-56c5094e074a",
      "metadata": {
        "collapsed": true,
        "id": "d29673f0-6a98-4a2c-8d4a-56c5094e074a",
        "outputId": "7444dcca-9e85-47f7-8287-cca2fb327db1"
      },
      "outputs": [
        {
          "name": "stdout",
          "output_type": "stream",
          "text": [
            "Found 3451 images belonging to 7 classes.\n",
            "Found 868 images belonging to 7 classes.\n"
          ]
        }
      ],
      "source": [
        "# Create generators for training and testing\n",
        "batch_size = 64 ################################################################### 64 k 32 korchi\n",
        "train_generator = train_datagen.flow_from_directory(\n",
        "    train_dir,\n",
        "    target_size=(224, 224),\n",
        "    batch_size=batch_size,\n",
        "    class_mode='categorical'\n",
        ")\n",
        "\n",
        "test_generator = test_datagen.flow_from_directory(\n",
        "    test_dir,\n",
        "    target_size=(224, 224),\n",
        "    batch_size=batch_size,\n",
        "    class_mode='categorical',\n",
        "    shuffle=False\n",
        ")"
      ]
    },
    {
      "cell_type": "code",
      "execution_count": null,
      "id": "fd02295e-821e-4ed5-bfd5-4b848cbcdec8",
      "metadata": {
        "id": "fd02295e-821e-4ed5-bfd5-4b848cbcdec8"
      },
      "outputs": [],
      "source": [
        "base_model = MobileNetV2(weights='imagenet', include_top=False, input_shape=(224, 224, 3))\n",
        "base_model.trainable = False  # Freeze the pre-trained layers"
      ]
    },
    {
      "cell_type": "code",
      "execution_count": null,
      "id": "5e10220f-a0c0-437e-91ef-9cbe422d801b",
      "metadata": {
        "id": "5e10220f-a0c0-437e-91ef-9cbe422d801b"
      },
      "outputs": [],
      "source": [
        "model = models.Sequential([\n",
        "    base_model,\n",
        "    layers.GlobalAveragePooling2D(),\n",
        "    layers.Dense(128, activation='relu', kernel_regularizer=regularizers.l2(0.001)), ################################### 0 komaichi\n",
        "    layers.BatchNormalization(),\n",
        "    layers.Dropout(0.3),  # Reduce dropout rate\n",
        "    layers.Dense(7, activation='softmax')  # Adjust for your number of classes\n",
        "])"
      ]
    },
    {
      "cell_type": "code",
      "execution_count": null,
      "id": "00f54dcb-9795-437a-9cbf-9ec6c79b0d16",
      "metadata": {
        "id": "00f54dcb-9795-437a-9cbf-9ec6c79b0d16"
      },
      "outputs": [],
      "source": [
        "# Compile the model\n",
        "model.compile(optimizer=Adam(learning_rate=0.001),\n",
        "              loss='categorical_crossentropy',\n",
        "              metrics=['accuracy'])\n",
        "\n",
        "# Callbacks: Model checkpointing, Reduce learning rate on plateau, and Early Stopping\n",
        "model_checkpoint = callbacks.ModelCheckpoint('best_model_vgg19.keras', save_best_only=True, monitor='val_loss')\n",
        "reduce_lr = callbacks.ReduceLROnPlateau(monitor='val_loss', factor=0.5, patience=3, min_lr=1e-6)\n",
        "early_stopping = callbacks.EarlyStopping(monitor='val_loss', patience=5, restore_best_weights=True)"
      ]
    },
    {
      "cell_type": "code",
      "execution_count": null,
      "id": "38b67113-e624-49c4-aa2a-e95f87a55875",
      "metadata": {
        "id": "38b67113-e624-49c4-aa2a-e95f87a55875"
      },
      "outputs": [],
      "source": [
        "# Train the model and store the history\n",
        "history = model.fit(\n",
        "    train_generator,\n",
        "    validation_data=test_generator,\n",
        "    epochs=50,\n",
        "    callbacks=[model_checkpoint, reduce_lr, early_stopping]\n",
        ")"
      ]
    },
    {
      "cell_type": "code",
      "execution_count": null,
      "id": "643af932-4f9b-47a1-b6d5-d77d6939acd2",
      "metadata": {
        "id": "643af932-4f9b-47a1-b6d5-d77d6939acd2"
      },
      "outputs": [],
      "source": [
        "# Evaluate the model on the test data\n",
        "test_loss, test_accuracy = model.evaluate(test_generator)\n",
        "print(f'Test accuracy: {test_accuracy:.2f}')"
      ]
    },
    {
      "cell_type": "code",
      "execution_count": null,
      "id": "42113666-3af0-4f75-93ed-e1f0309c9ef8",
      "metadata": {
        "scrolled": true,
        "id": "42113666-3af0-4f75-93ed-e1f0309c9ef8"
      },
      "outputs": [],
      "source": [
        "# Convert training history to a DataFrame for a tabular view of train and validation metrics\n",
        "history_df = pd.DataFrame({\n",
        "    \"Epoch\": range(1, len(history.history['accuracy']) + 1),\n",
        "    \"Train Accuracy\": history.history['accuracy'],\n",
        "    \"Validation Accuracy\": history.history['val_accuracy'],\n",
        "    \"Train Loss\": history.history['loss'],\n",
        "    \"Validation Loss\": history.history['val_loss']\n",
        "})\n",
        "print(\"\\nTrain and Validation Accuracy and Loss by Epoch:\")\n",
        "print(history_df)"
      ]
    },
    {
      "cell_type": "code",
      "execution_count": null,
      "id": "8f48f5ae-6385-48ca-b379-9e1d0c5fd7b3",
      "metadata": {
        "id": "8f48f5ae-6385-48ca-b379-9e1d0c5fd7b3",
        "outputId": "0c6505ba-6d87-402e-d410-43503af08d41"
      },
      "outputs": [
        {
          "name": "stdout",
          "output_type": "stream",
          "text": [
            "\u001b[1m14/14\u001b[0m \u001b[32m━━━━━━━━━━━━━━━━━━━━\u001b[0m\u001b[37m\u001b[0m \u001b[1m32s\u001b[0m 2s/step\n"
          ]
        }
      ],
      "source": [
        "# Get per-class accuracy and loss\n",
        "test_generator.reset()\n",
        "predictions = model.predict(test_generator)\n",
        "predicted_labels = np.argmax(predictions, axis=1)\n",
        "true_labels = test_generator.classes\n",
        "\n",
        "# Class labels\n",
        "class_labels = list(test_generator.class_indices.keys())"
      ]
    },
    {
      "cell_type": "code",
      "execution_count": null,
      "id": "81b83ae2-6566-428b-a9c8-d171a3a5271b",
      "metadata": {
        "id": "81b83ae2-6566-428b-a9c8-d171a3a5271b"
      },
      "outputs": [],
      "source": [
        "# Classification report\n",
        "classification_report_dict = classification_report(true_labels, predicted_labels, target_names=class_labels, output_dict=True)\n",
        "classification_df = pd.DataFrame(classification_report_dict).transpose()\n",
        "print(\"\\nClass-wise Accuracy and Loss:\")\n",
        "print(classification_df)"
      ]
    },
    {
      "cell_type": "code",
      "execution_count": null,
      "id": "8c6106d7-fd20-47ee-acca-c2392dba7179",
      "metadata": {
        "id": "8c6106d7-fd20-47ee-acca-c2392dba7179"
      },
      "outputs": [],
      "source": [
        "# Plot confusion matrix\n",
        "conf_matrix = confusion_matrix(true_labels, predicted_labels)\n",
        "plt.figure(figsize=(8, 6))\n",
        "disp = ConfusionMatrixDisplay(confusion_matrix=conf_matrix, display_labels=class_labels)\n",
        "disp.plot(cmap=plt.cm.Blues, values_format='d', xticks_rotation=45)\n",
        "plt.title(\"Confusion Matrix\")\n",
        "plt.show()"
      ]
    },
    {
      "cell_type": "code",
      "execution_count": null,
      "id": "dd981191-476d-4337-8ec4-a4389e025c01",
      "metadata": {
        "id": "dd981191-476d-4337-8ec4-a4389e025c01"
      },
      "outputs": [],
      "source": [
        "# Plot accuracy and loss over epochs\n",
        "#plt.figure(figsize=(10, 6))\n",
        "# Plot accuracy\n",
        "#plt.subplot(1, 2, 1)\n",
        "plt.plot(history.history['accuracy'], label='Train Accuracy')\n",
        "plt.plot(history.history['val_accuracy'], label='Validation Accuracy')\n",
        "plt.axhline(y=test_accuracy, color='r', linestyle='--', label='Final Test Accuracy')\n",
        "plt.title('Model Accuracy')\n",
        "plt.ylabel('Accuracy')\n",
        "plt.xlabel('Epochs')\n",
        "plt.legend()\n",
        "plt.show()"
      ]
    },
    {
      "cell_type": "code",
      "execution_count": null,
      "id": "ff7a05be-ddca-41e3-a358-f06b70c0ea0e",
      "metadata": {
        "id": "ff7a05be-ddca-41e3-a358-f06b70c0ea0e"
      },
      "outputs": [],
      "source": [
        "# Plot loss\n",
        "#plt.figure(figsize=(10, 6))\n",
        "#plt.subplot(1, 2, 2)\n",
        "plt.plot(history.history['loss'], label='Train Loss')\n",
        "plt.plot(history.history['val_loss'], label='Validation Loss')\n",
        "plt.axhline(y=test_loss, color='r', linestyle='--', label='Final Test Loss')\n",
        "plt.title('Model Loss')\n",
        "plt.ylabel('Loss')\n",
        "plt.xlabel('Epochs')\n",
        "plt.legend()\n",
        "plt.show()"
      ]
    },
    {
      "cell_type": "code",
      "execution_count": null,
      "id": "0c983bf3-f70f-43d3-aab4-4a6508fb3c11",
      "metadata": {
        "id": "0c983bf3-f70f-43d3-aab4-4a6508fb3c11"
      },
      "outputs": [],
      "source": []
    }
  ],
  "metadata": {
    "kernelspec": {
      "display_name": "Python 3 (ipykernel)",
      "language": "python",
      "name": "python3"
    },
    "language_info": {
      "codemirror_mode": {
        "name": "ipython",
        "version": 3
      },
      "file_extension": ".py",
      "mimetype": "text/x-python",
      "name": "python",
      "nbconvert_exporter": "python",
      "pygments_lexer": "ipython3",
      "version": "3.11.7"
    },
    "colab": {
      "provenance": []
    }
  },
  "nbformat": 4,
  "nbformat_minor": 5
}